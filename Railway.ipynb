{
 "cells": [
  {
   "cell_type": "code",
   "execution_count": 11,
   "source": [
    "# Import headers\r\n",
    "import pandas as pd\r\n",
    "import csv\r\n",
    "import json\r\n",
    "import matplotlib.pyplot as plt\r\n",
    "import seaborn as sns\r\n",
    "%matplotlib inline\r\n",
    "\r\n",
    "plt.rcParams[\"figure.figsize\"] = (20,5)"
   ],
   "outputs": [],
   "metadata": {}
  },
  {
   "cell_type": "code",
   "execution_count": 12,
   "source": [
    "# Load CSV file\r\n",
    "df = pd.read_csv('railway_gauges.csv')\r\n",
    "df.head()"
   ],
   "outputs": [
    {
     "output_type": "execute_result",
     "data": {
      "text/html": [
       "<div>\n",
       "<style scoped>\n",
       "    .dataframe tbody tr th:only-of-type {\n",
       "        vertical-align: middle;\n",
       "    }\n",
       "\n",
       "    .dataframe tbody tr th {\n",
       "        vertical-align: top;\n",
       "    }\n",
       "\n",
       "    .dataframe thead th {\n",
       "        text-align: right;\n",
       "    }\n",
       "</style>\n",
       "<table border=\"1\" class=\"dataframe\">\n",
       "  <thead>\n",
       "    <tr style=\"text-align: right;\">\n",
       "      <th></th>\n",
       "      <th>Year</th>\n",
       "      <th>Broad Gauge</th>\n",
       "      <th>Metre Gauge</th>\n",
       "      <th>Narrow Gauge</th>\n",
       "      <th>Total</th>\n",
       "    </tr>\n",
       "  </thead>\n",
       "  <tbody>\n",
       "    <tr>\n",
       "      <th>0</th>\n",
       "      <td>1964-65</td>\n",
       "      <td>3521</td>\n",
       "      <td>2891</td>\n",
       "      <td>464</td>\n",
       "      <td>6876</td>\n",
       "    </tr>\n",
       "    <tr>\n",
       "      <th>1</th>\n",
       "      <td>1965-66</td>\n",
       "      <td>3603</td>\n",
       "      <td>2913</td>\n",
       "      <td>470</td>\n",
       "      <td>6986</td>\n",
       "    </tr>\n",
       "    <tr>\n",
       "      <th>2</th>\n",
       "      <td>1966-67</td>\n",
       "      <td>3615</td>\n",
       "      <td>2911</td>\n",
       "      <td>481</td>\n",
       "      <td>7007</td>\n",
       "    </tr>\n",
       "    <tr>\n",
       "      <th>3</th>\n",
       "      <td>1967-68</td>\n",
       "      <td>3601</td>\n",
       "      <td>2920</td>\n",
       "      <td>506</td>\n",
       "      <td>7027</td>\n",
       "    </tr>\n",
       "    <tr>\n",
       "      <th>4</th>\n",
       "      <td>1968-69</td>\n",
       "      <td>3603</td>\n",
       "      <td>2921</td>\n",
       "      <td>508</td>\n",
       "      <td>7032</td>\n",
       "    </tr>\n",
       "  </tbody>\n",
       "</table>\n",
       "</div>"
      ],
      "text/plain": [
       "      Year  Broad Gauge  Metre Gauge  Narrow Gauge  Total\n",
       "0  1964-65         3521         2891           464   6876\n",
       "1  1965-66         3603         2913           470   6986\n",
       "2  1966-67         3615         2911           481   7007\n",
       "3  1967-68         3601         2920           506   7027\n",
       "4  1968-69         3603         2921           508   7032"
      ]
     },
     "metadata": {},
     "execution_count": 12
    }
   ],
   "metadata": {}
  },
  {
   "cell_type": "code",
   "execution_count": 13,
   "source": [
    "# Find max of 'Broad Gauge'\r\n",
    "df.iloc[[df['Broad Gauge'].idxmax()]]"
   ],
   "outputs": [
    {
     "output_type": "execute_result",
     "data": {
      "text/html": [
       "<div>\n",
       "<style scoped>\n",
       "    .dataframe tbody tr th:only-of-type {\n",
       "        vertical-align: middle;\n",
       "    }\n",
       "\n",
       "    .dataframe tbody tr th {\n",
       "        vertical-align: top;\n",
       "    }\n",
       "\n",
       "    .dataframe thead th {\n",
       "        text-align: right;\n",
       "    }\n",
       "</style>\n",
       "<table border=\"1\" class=\"dataframe\">\n",
       "  <thead>\n",
       "    <tr style=\"text-align: right;\">\n",
       "      <th></th>\n",
       "      <th>Year</th>\n",
       "      <th>Broad Gauge</th>\n",
       "      <th>Metre Gauge</th>\n",
       "      <th>Narrow Gauge</th>\n",
       "      <th>Total</th>\n",
       "    </tr>\n",
       "  </thead>\n",
       "  <tbody>\n",
       "    <tr>\n",
       "      <th>48</th>\n",
       "      <td>2012-13</td>\n",
       "      <td>6577</td>\n",
       "      <td>379</td>\n",
       "      <td>216</td>\n",
       "      <td>7172</td>\n",
       "    </tr>\n",
       "  </tbody>\n",
       "</table>\n",
       "</div>"
      ],
      "text/plain": [
       "       Year  Broad Gauge  Metre Gauge  Narrow Gauge  Total\n",
       "48  2012-13         6577          379           216   7172"
      ]
     },
     "metadata": {},
     "execution_count": 13
    }
   ],
   "metadata": {}
  },
  {
   "cell_type": "code",
   "execution_count": 14,
   "source": [
    "# Find max of 'Metre Gauge'\r\n",
    "df.iloc[[df['Metre Gauge'].idxmax()]]"
   ],
   "outputs": [
    {
     "output_type": "execute_result",
     "data": {
      "text/html": [
       "<div>\n",
       "<style scoped>\n",
       "    .dataframe tbody tr th:only-of-type {\n",
       "        vertical-align: middle;\n",
       "    }\n",
       "\n",
       "    .dataframe tbody tr th {\n",
       "        vertical-align: top;\n",
       "    }\n",
       "\n",
       "    .dataframe thead th {\n",
       "        text-align: right;\n",
       "    }\n",
       "</style>\n",
       "<table border=\"1\" class=\"dataframe\">\n",
       "  <thead>\n",
       "    <tr style=\"text-align: right;\">\n",
       "      <th></th>\n",
       "      <th>Year</th>\n",
       "      <th>Broad Gauge</th>\n",
       "      <th>Metre Gauge</th>\n",
       "      <th>Narrow Gauge</th>\n",
       "      <th>Total</th>\n",
       "    </tr>\n",
       "  </thead>\n",
       "  <tbody>\n",
       "    <tr>\n",
       "      <th>4</th>\n",
       "      <td>1968-69</td>\n",
       "      <td>3603</td>\n",
       "      <td>2921</td>\n",
       "      <td>508</td>\n",
       "      <td>7032</td>\n",
       "    </tr>\n",
       "  </tbody>\n",
       "</table>\n",
       "</div>"
      ],
      "text/plain": [
       "      Year  Broad Gauge  Metre Gauge  Narrow Gauge  Total\n",
       "4  1968-69         3603         2921           508   7032"
      ]
     },
     "metadata": {},
     "execution_count": 14
    }
   ],
   "metadata": {}
  },
  {
   "cell_type": "code",
   "execution_count": 15,
   "source": [
    "# Find max of 'Narrow Gauge'\r\n",
    "df.iloc[[df['Narrow Gauge'].idxmax()]]"
   ],
   "outputs": [
    {
     "output_type": "execute_result",
     "data": {
      "text/html": [
       "<div>\n",
       "<style scoped>\n",
       "    .dataframe tbody tr th:only-of-type {\n",
       "        vertical-align: middle;\n",
       "    }\n",
       "\n",
       "    .dataframe tbody tr th {\n",
       "        vertical-align: top;\n",
       "    }\n",
       "\n",
       "    .dataframe thead th {\n",
       "        text-align: right;\n",
       "    }\n",
       "</style>\n",
       "<table border=\"1\" class=\"dataframe\">\n",
       "  <thead>\n",
       "    <tr style=\"text-align: right;\">\n",
       "      <th></th>\n",
       "      <th>Year</th>\n",
       "      <th>Broad Gauge</th>\n",
       "      <th>Metre Gauge</th>\n",
       "      <th>Narrow Gauge</th>\n",
       "      <th>Total</th>\n",
       "    </tr>\n",
       "  </thead>\n",
       "  <tbody>\n",
       "    <tr>\n",
       "      <th>4</th>\n",
       "      <td>1968-69</td>\n",
       "      <td>3603</td>\n",
       "      <td>2921</td>\n",
       "      <td>508</td>\n",
       "      <td>7032</td>\n",
       "    </tr>\n",
       "  </tbody>\n",
       "</table>\n",
       "</div>"
      ],
      "text/plain": [
       "      Year  Broad Gauge  Metre Gauge  Narrow Gauge  Total\n",
       "4  1968-69         3603         2921           508   7032"
      ]
     },
     "metadata": {},
     "execution_count": 15
    }
   ],
   "metadata": {}
  },
  {
   "cell_type": "code",
   "execution_count": 16,
   "source": [
    "# Find which year had the maximum installations\r\n",
    "df.iloc[[df['Total'].idxmax()]]"
   ],
   "outputs": [
    {
     "output_type": "execute_result",
     "data": {
      "text/html": [
       "<div>\n",
       "<style scoped>\n",
       "    .dataframe tbody tr th:only-of-type {\n",
       "        vertical-align: middle;\n",
       "    }\n",
       "\n",
       "    .dataframe tbody tr th {\n",
       "        vertical-align: top;\n",
       "    }\n",
       "\n",
       "    .dataframe thead th {\n",
       "        text-align: right;\n",
       "    }\n",
       "</style>\n",
       "<table border=\"1\" class=\"dataframe\">\n",
       "  <thead>\n",
       "    <tr style=\"text-align: right;\">\n",
       "      <th></th>\n",
       "      <th>Year</th>\n",
       "      <th>Broad Gauge</th>\n",
       "      <th>Metre Gauge</th>\n",
       "      <th>Narrow Gauge</th>\n",
       "      <th>Total</th>\n",
       "    </tr>\n",
       "  </thead>\n",
       "  <tbody>\n",
       "    <tr>\n",
       "      <th>48</th>\n",
       "      <td>2012-13</td>\n",
       "      <td>6577</td>\n",
       "      <td>379</td>\n",
       "      <td>216</td>\n",
       "      <td>7172</td>\n",
       "    </tr>\n",
       "  </tbody>\n",
       "</table>\n",
       "</div>"
      ],
      "text/plain": [
       "       Year  Broad Gauge  Metre Gauge  Narrow Gauge  Total\n",
       "48  2012-13         6577          379           216   7172"
      ]
     },
     "metadata": {},
     "execution_count": 16
    }
   ],
   "metadata": {}
  },
  {
   "cell_type": "code",
   "execution_count": 17,
   "source": [
    "# Dataframe to describe Min, Max, Mean, STD\r\n",
    "df.describe()"
   ],
   "outputs": [
    {
     "output_type": "execute_result",
     "data": {
      "text/html": [
       "<div>\n",
       "<style scoped>\n",
       "    .dataframe tbody tr th:only-of-type {\n",
       "        vertical-align: middle;\n",
       "    }\n",
       "\n",
       "    .dataframe tbody tr th {\n",
       "        vertical-align: top;\n",
       "    }\n",
       "\n",
       "    .dataframe thead th {\n",
       "        text-align: right;\n",
       "    }\n",
       "</style>\n",
       "<table border=\"1\" class=\"dataframe\">\n",
       "  <thead>\n",
       "    <tr style=\"text-align: right;\">\n",
       "      <th></th>\n",
       "      <th>Broad Gauge</th>\n",
       "      <th>Metre Gauge</th>\n",
       "      <th>Narrow Gauge</th>\n",
       "      <th>Total</th>\n",
       "    </tr>\n",
       "  </thead>\n",
       "  <tbody>\n",
       "    <tr>\n",
       "      <th>count</th>\n",
       "      <td>49.000000</td>\n",
       "      <td>49.000000</td>\n",
       "      <td>49.000000</td>\n",
       "      <td>49.000000</td>\n",
       "    </tr>\n",
       "    <tr>\n",
       "      <th>mean</th>\n",
       "      <td>4572.775510</td>\n",
       "      <td>2077.510204</td>\n",
       "      <td>386.795918</td>\n",
       "      <td>7037.081633</td>\n",
       "    </tr>\n",
       "    <tr>\n",
       "      <th>std</th>\n",
       "      <td>946.656887</td>\n",
       "      <td>847.318863</td>\n",
       "      <td>106.809991</td>\n",
       "      <td>73.805724</td>\n",
       "    </tr>\n",
       "    <tr>\n",
       "      <th>min</th>\n",
       "      <td>3521.000000</td>\n",
       "      <td>379.000000</td>\n",
       "      <td>191.000000</td>\n",
       "      <td>6853.000000</td>\n",
       "    </tr>\n",
       "    <tr>\n",
       "      <th>25%</th>\n",
       "      <td>3767.000000</td>\n",
       "      <td>1318.000000</td>\n",
       "      <td>284.000000</td>\n",
       "      <td>7017.000000</td>\n",
       "    </tr>\n",
       "    <tr>\n",
       "      <th>50%</th>\n",
       "      <td>4163.000000</td>\n",
       "      <td>2478.000000</td>\n",
       "      <td>442.000000</td>\n",
       "      <td>7056.000000</td>\n",
       "    </tr>\n",
       "    <tr>\n",
       "      <th>75%</th>\n",
       "      <td>5261.000000</td>\n",
       "      <td>2786.000000</td>\n",
       "      <td>468.000000</td>\n",
       "      <td>7084.000000</td>\n",
       "    </tr>\n",
       "    <tr>\n",
       "      <th>max</th>\n",
       "      <td>6577.000000</td>\n",
       "      <td>2921.000000</td>\n",
       "      <td>508.000000</td>\n",
       "      <td>7172.000000</td>\n",
       "    </tr>\n",
       "  </tbody>\n",
       "</table>\n",
       "</div>"
      ],
      "text/plain": [
       "       Broad Gauge  Metre Gauge  Narrow Gauge        Total\n",
       "count    49.000000    49.000000     49.000000    49.000000\n",
       "mean   4572.775510  2077.510204    386.795918  7037.081633\n",
       "std     946.656887   847.318863    106.809991    73.805724\n",
       "min    3521.000000   379.000000    191.000000  6853.000000\n",
       "25%    3767.000000  1318.000000    284.000000  7017.000000\n",
       "50%    4163.000000  2478.000000    442.000000  7056.000000\n",
       "75%    5261.000000  2786.000000    468.000000  7084.000000\n",
       "max    6577.000000  2921.000000    508.000000  7172.000000"
      ]
     },
     "metadata": {},
     "execution_count": 17
    }
   ],
   "metadata": {}
  },
  {
   "cell_type": "code",
   "execution_count": 18,
   "source": [
    "df = df.drop('Total', axis=1)\r\n",
    "ax = df.plot(x=\"Year\", kind=\"bar\")\r\n",
    "plt.xticks(rotation=70)\r\n",
    "plt.xlabel('Year')\r\n",
    "plt.ylabel('Total')\r\n",
    "plt.title('Gauges: Number of railway tracks installed per year')\r\n",
    "plt.savefig('rail_gauges.png')\r\n",
    "plt.show()"
   ],
   "outputs": [
    {
     "output_type": "display_data",
     "data": {
      "image/png": "[encoded data removed]",
      "text/plain": [
       "<Figure size 1440x360 with 1 Axes>"
      ]
     },
     "metadata": {
      "needs_background": "light"
     }
    }
   ],
   "metadata": {}
  },
  {
   "cell_type": "code",
   "execution_count": null,
   "source": [],
   "outputs": [],
   "metadata": {}
  },
  {
   "cell_type": "code",
   "execution_count": null,
   "source": [],
   "outputs": [],
   "metadata": {}
  }
 ],
 "metadata": {
  "kernelspec": {
   "name": "python3",
   "display_name": "Python 3.8.8 64-bit ('base': conda)"
  },
  "language_info": {
   "codemirror_mode": {
    "name": "ipython",
    "version": 3
   },
   "file_extension": ".py",
   "mimetype": "text/x-python",
   "name": "python",
   "nbconvert_exporter": "python",
   "pygments_lexer": "ipython3",
   "version": "3.8.8"
  },
  "interpreter": {
   "hash": "751453a9a88946ceb7b7c323f34b2016ca9ae6abbe92f9bdf6053afe7934d491"
  }
 },
 "nbformat": 4,
 "nbformat_minor": 2
}